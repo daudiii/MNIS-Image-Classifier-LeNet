{
  "nbformat": 4,
  "nbformat_minor": 0,
  "metadata": {
    "colab": {
      "name": "Copy of cifar10_tutorial.ipynb",
      "version": "0.3.2",
      "provenance": [],
      "collapsed_sections": []
    },
    "language_info": {
      "codemirror_mode": {
        "name": "ipython",
        "version": 3
      },
      "file_extension": ".py",
      "mimetype": "text/x-python",
      "name": "python",
      "nbconvert_exporter": "python",
      "pygments_lexer": "ipython3",
      "version": "3.6.6"
    },
    "kernelspec": {
      "display_name": "Python 3",
      "language": "python",
      "name": "python3"
    }
  },
  "cells": [
    {
      "cell_type": "code",
      "metadata": {
        "id": "VeXLLbFcq8CA",
        "colab_type": "code",
        "colab": {}
      },
      "source": [
        "%matplotlib inline"
      ],
      "execution_count": 0,
      "outputs": []
    },
    {
      "cell_type": "code",
      "metadata": {
        "id": "BbYdrb_wq8CM",
        "colab_type": "code",
        "colab": {}
      },
      "source": [
        "import torch\n",
        "import torchvision\n",
        "import torchvision.transforms as transforms"
      ],
      "execution_count": 0,
      "outputs": []
    },
    {
      "cell_type": "code",
      "metadata": {
        "id": "rDiniPD1q8CS",
        "colab_type": "code",
        "colab": {}
      },
      "source": [
        "transform = transforms.Compose(\n",
        "    [transforms.ToTensor()])\n",
        "\n",
        "trainset = torchvision.datasets.MNIST(root='./data', train=True,\n",
        "                                        download=True, transform=transform)\n",
        "trainloader = torch.utils.data.DataLoader(trainset, batch_size=4,\n",
        "                                          shuffle=True, num_workers=2)\n",
        "\n",
        "testset = torchvision.datasets.MNIST(root='./data', train=False,\n",
        "                                       download=True, transform=transform)\n",
        "testloader = torch.utils.data.DataLoader(testset, batch_size=4,\n",
        "                                         shuffle=False, num_workers=2)\n",
        "\n",
        "classes = ('0', '1', '2', '3', '4', '5', '6', '7', '8', '9')"
      ],
      "execution_count": 0,
      "outputs": []
    },
    {
      "cell_type": "code",
      "metadata": {
        "id": "4V52GZUiq8CZ",
        "colab_type": "code",
        "outputId": "3c169808-9c45-44a7-fccd-d9a919aa9df9",
        "colab": {
          "base_uri": "https://localhost:8080/",
          "height": 173
        }
      },
      "source": [
        "import matplotlib.pyplot as plt\n",
        "import numpy as np\n",
        "\n",
        "# functions to show an image\n",
        "\n",
        "\n",
        "def imshow(img):\n",
        "    print(img.shape)\n",
        "    npimg = img.numpy()\n",
        "    plt.imshow(np.transpose(npimg, (1, 2, 0)), cmap=\"gray\")\n",
        "    plt.show()\n",
        "\n",
        "\n",
        "# get some random training images\n",
        "dataiter = iter(trainloader)\n",
        "images, labels = dataiter.next()\n",
        "\n",
        "# show images\n",
        "imshow(torchvision.utils.make_grid(images))\n",
        "# print labels\n",
        "print(' '.join('%5s' % classes[labels[j]] for j in range(4)))"
      ],
      "execution_count": 4,
      "outputs": [
        {
          "output_type": "stream",
          "text": [
            "torch.Size([3, 32, 122])\n"
          ],
          "name": "stdout"
        },
        {
          "output_type": "display_data",
          "data": {
            "image/png": "[encoded data removed]",
            "text/plain": [
              "<Figure size 432x288 with 1 Axes>"
            ]
          },
          "metadata": {
            "tags": []
          }
        },
        {
          "output_type": "stream",
          "text": [
            "    4     2     0     4\n"
          ],
          "name": "stdout"
        }
      ]
    },
    {
      "cell_type": "markdown",
      "metadata": {
        "id": "qUv3fWW3q8Ce",
        "colab_type": "text"
      },
      "source": [
        "2. Define a Convolution Neural Network\n",
        "^^^^^^^^^^^^^^^^^^^^^^^^^^^^^^^^^^^^^^\n",
        "Copy the neural network from the Neural Networks section before and modify it to\n",
        "take 3-channel images (instead of 1-channel images as it was defined).\n",
        "\n"
      ]
    },
    {
      "cell_type": "code",
      "metadata": {
        "id": "RL2H46Evq8Cf",
        "colab_type": "code",
        "colab": {}
      },
      "source": [
        "import torch.nn as nn\n",
        "import torch.nn.functional as F\n",
        "\n",
        "\n",
        "class LeNet(nn.Module):\n",
        "    def __init__(self):\n",
        "        super(LeNet, self).__init__()\n",
        "        self.conv1 = nn.Conv2d(1, 6, 5, padding=2)\n",
        "        self.relu = nn.ReLU()\n",
        "        self.pool = nn.MaxPool2d(2, 2)\n",
        "        self.conv2 = nn.Conv2d(6, 16, 5)\n",
        "        self.fc1 = nn.Linear(16 * 5*5, 120)\n",
        "        self.fc2 = nn.Linear(120, 100)\n",
        "        self.fc3 = nn.Linear(100, 10)\n",
        "        self.smax = nn.Softmax()\n",
        "\n",
        "    def forward(self, x):\n",
        "        x = self.pool(self.relu(self.conv1(x)))\n",
        "        x = self.pool(self.relu(self.conv2(x)))\n",
        "        x = x.view(-1, 16 * 5 * 5)\n",
        "        x = self.relu(self.fc1(x))\n",
        "        x = self.relu(self.fc2(x))\n",
        "        x = self.fc3(x)\n",
        "        x = self.smax(x)\n",
        "        return x\n",
        "\n",
        "\n",
        "model = LeNet()"
      ],
      "execution_count": 0,
      "outputs": []
    },
    {
      "cell_type": "code",
      "metadata": {
        "id": "MLvPLb0sq8Cm",
        "colab_type": "code",
        "colab": {}
      },
      "source": [
        "import torch.optim as optim\n",
        "criterion = nn.CrossEntropyLoss()\n",
        "optimizer = torch.optim.Adam(model.parameters(),lr=0.003)"
      ],
      "execution_count": 0,
      "outputs": []
    },
    {
      "cell_type": "code",
      "metadata": {
        "id": "wVa_8kRaq8Ct",
        "colab_type": "code",
        "outputId": "352d6a18-1bf2-45ae-96ca-d47c407b2bb3",
        "colab": {
          "base_uri": "https://localhost:8080/",
          "height": 1000
        }
      },
      "source": [
        "for epoch in range(15):  # loop over the dataset 15 times\n",
        "\n",
        "    running_loss = 0.0\n",
        "    for i, data in enumerate(trainloader, 0):\n",
        "        # get the inputs\n",
        "        inputs, labels = data\n",
        "\n",
        "        # zero the parameter gradients\n",
        "        optimizer.zero_grad()\n",
        "\n",
        "        # forward + backward + optimize\n",
        "        outputs = model(inputs)\n",
        "        loss = criterion(outputs,labels)\n",
        "        loss.backward()\n",
        "        optimizer.step()\n",
        "\n",
        "        # print statistics\n",
        "        running_loss += loss.item()\n",
        "        if i % 2000 == 1999:    # print every 2000 mini-batches\n",
        "            print('[%d, %5d] loss: %.3f' %\n",
        "                  (epoch + 1, i + 1, running_loss / 2000))\n",
        "            running_loss = 0.0\n",
        "\n",
        "print('Finished Training')"
      ],
      "execution_count": 7,
      "outputs": [
        {
          "output_type": "stream",
          "text": [
            "/usr/local/lib/python3.6/dist-packages/ipykernel_launcher.py:24: UserWarning: Implicit dimension choice for softmax has been deprecated. Change the call to include dim=X as an argument.\n"
          ],
          "name": "stderr"
        },
        {
          "output_type": "stream",
          "text": [
            "[1,  2000] loss: 1.691\n",
            "[1,  4000] loss: 1.571\n",
            "[1,  6000] loss: 1.561\n",
            "[1,  8000] loss: 1.562\n",
            "[1, 10000] loss: 1.629\n",
            "[1, 12000] loss: 1.601\n",
            "[1, 14000] loss: 1.575\n",
            "[2,  2000] loss: 1.557\n",
            "[2,  4000] loss: 1.585\n",
            "[2,  6000] loss: 1.566\n",
            "[2,  8000] loss: 1.563\n",
            "[2, 10000] loss: 1.606\n",
            "[2, 12000] loss: 1.562\n",
            "[2, 14000] loss: 1.583\n",
            "[3,  2000] loss: 1.633\n",
            "[3,  4000] loss: 1.604\n",
            "[3,  6000] loss: 1.645\n",
            "[3,  8000] loss: 1.645\n",
            "[3, 10000] loss: 1.577\n",
            "[3, 12000] loss: 1.622\n",
            "[3, 14000] loss: 1.577\n",
            "[4,  2000] loss: 1.611\n",
            "[4,  4000] loss: 1.655\n",
            "[4,  6000] loss: 1.588\n",
            "[4,  8000] loss: 1.562\n",
            "[4, 10000] loss: 1.596\n",
            "[4, 12000] loss: 1.635\n",
            "[4, 14000] loss: 1.567\n",
            "[5,  2000] loss: 1.569\n",
            "[5,  4000] loss: 1.670\n",
            "[5,  6000] loss: 1.612\n",
            "[5,  8000] loss: 1.580\n",
            "[5, 10000] loss: 1.564\n",
            "[5, 12000] loss: 1.681\n",
            "[5, 14000] loss: 1.702\n",
            "[6,  2000] loss: 1.590\n",
            "[6,  4000] loss: 1.592\n",
            "[6,  6000] loss: 1.610\n",
            "[6,  8000] loss: 1.593\n",
            "[6, 10000] loss: 1.701\n",
            "[6, 12000] loss: 1.616\n",
            "[6, 14000] loss: 1.687\n",
            "[7,  2000] loss: 1.637\n",
            "[7,  4000] loss: 1.603\n",
            "[7,  6000] loss: 1.592\n",
            "[7,  8000] loss: 1.576\n",
            "[7, 10000] loss: 1.573\n",
            "[7, 12000] loss: 1.591\n",
            "[7, 14000] loss: 1.673\n",
            "[8,  2000] loss: 1.620\n",
            "[8,  4000] loss: 1.572\n",
            "[8,  6000] loss: 1.595\n",
            "[8,  8000] loss: 1.574\n",
            "[8, 10000] loss: 1.642\n",
            "[8, 12000] loss: 1.613\n",
            "[8, 14000] loss: 1.583\n",
            "[9,  2000] loss: 1.582\n",
            "[9,  4000] loss: 1.590\n",
            "[9,  6000] loss: 1.589\n",
            "[9,  8000] loss: 1.592\n",
            "[9, 10000] loss: 1.582\n",
            "[9, 12000] loss: 1.657\n",
            "[9, 14000] loss: 1.714\n",
            "[10,  2000] loss: 1.587\n",
            "[10,  4000] loss: 1.611\n",
            "[10,  6000] loss: 1.679\n",
            "[10,  8000] loss: 1.662\n",
            "[10, 10000] loss: 1.729\n",
            "[10, 12000] loss: 1.684\n",
            "[10, 14000] loss: 1.664\n",
            "[11,  2000] loss: 1.599\n",
            "[11,  4000] loss: 1.592\n",
            "[11,  6000] loss: 1.575\n",
            "[11,  8000] loss: 1.590\n",
            "[11, 10000] loss: 1.607\n",
            "[11, 12000] loss: 1.624\n",
            "[11, 14000] loss: 1.645\n",
            "[12,  2000] loss: 1.705\n",
            "[12,  4000] loss: 1.644\n",
            "[12,  6000] loss: 1.613\n",
            "[12,  8000] loss: 1.580\n",
            "[12, 10000] loss: 1.597\n",
            "[12, 12000] loss: 1.606\n",
            "[12, 14000] loss: 1.653\n",
            "[13,  2000] loss: 1.635\n",
            "[13,  4000] loss: 1.600\n",
            "[13,  6000] loss: 1.601\n",
            "[13,  8000] loss: 1.587\n",
            "[13, 10000] loss: 1.613\n",
            "[13, 12000] loss: 1.618\n",
            "[13, 14000] loss: 1.662\n",
            "[14,  2000] loss: 1.653\n",
            "[14,  4000] loss: 1.711\n",
            "[14,  6000] loss: 1.750\n",
            "[14,  8000] loss: 1.618\n",
            "[14, 10000] loss: 1.656\n",
            "[14, 12000] loss: 1.736\n",
            "[14, 14000] loss: 1.662\n",
            "[15,  2000] loss: 1.600\n",
            "[15,  4000] loss: 1.584\n",
            "[15,  6000] loss: 1.599\n",
            "[15,  8000] loss: 1.584\n",
            "[15, 10000] loss: 1.600\n",
            "[15, 12000] loss: 1.605\n",
            "[15, 14000] loss: 1.600\n",
            "Finished Training\n"
          ],
          "name": "stdout"
        }
      ]
    },
    {
      "cell_type": "markdown",
      "metadata": {
        "id": "Mkt6Wa0wq8C4",
        "colab_type": "text"
      },
      "source": [
        "**Testing...**\n",
        "\n"
      ]
    },
    {
      "cell_type": "code",
      "metadata": {
        "id": "XeqxI83Mq8C6",
        "colab_type": "code",
        "outputId": "5f9c3afe-78aa-4ff0-f374-0056fa9b7642",
        "colab": {
          "base_uri": "https://localhost:8080/",
          "height": 173
        }
      },
      "source": [
        "dataiter = iter(testloader)\n",
        "images, labels = dataiter.next()\n",
        "\n",
        "# print images\n",
        "imshow(torchvision.utils.make_grid(images))\n",
        "print('GroundTruth: ', ' '.join('%5s' % classes[labels[j]] for j in range(4)))"
      ],
      "execution_count": 0,
      "outputs": [
        {
          "output_type": "stream",
          "text": [
            "torch.Size([3, 32, 122])\n"
          ],
          "name": "stdout"
        },
        {
          "output_type": "display_data",
          "data": {
            "image/png": "[encoded data removed]",
            "text/plain": [
              "<Figure size 432x288 with 1 Axes>"
            ]
          },
          "metadata": {
            "tags": []
          }
        },
        {
          "output_type": "stream",
          "text": [
            "GroundTruth:      7     2     1     0\n"
          ],
          "name": "stdout"
        }
      ]
    },
    {
      "cell_type": "code",
      "metadata": {
        "id": "Zj9kVGI8q8DE",
        "colab_type": "code",
        "outputId": "0bc34a0d-408c-4fbf-d5db-908d4032fec3",
        "colab": {
          "base_uri": "https://localhost:8080/",
          "height": 54
        }
      },
      "source": [
        "outputs = model(images)"
      ],
      "execution_count": 10,
      "outputs": [
        {
          "output_type": "stream",
          "text": [
            "/usr/local/lib/python3.6/dist-packages/ipykernel_launcher.py:24: UserWarning: Implicit dimension choice for softmax has been deprecated. Change the call to include dim=X as an argument.\n"
          ],
          "name": "stderr"
        }
      ]
    },
    {
      "cell_type": "code",
      "metadata": {
        "id": "afXXCA6Cq8DL",
        "colab_type": "code",
        "outputId": "c14a8639-9e2d-42e9-f1d9-56b157175a62",
        "colab": {
          "base_uri": "https://localhost:8080/",
          "height": 34
        }
      },
      "source": [
        "_, predicted = torch.max(outputs, 1)\n",
        "\n",
        "print('Predicted: ', ' '.join('%5s' % classes[predicted[j]]\n",
        "                              for j in range(4)))"
      ],
      "execution_count": 11,
      "outputs": [
        {
          "output_type": "stream",
          "text": [
            "Predicted:      7     2     1     0\n"
          ],
          "name": "stdout"
        }
      ]
    },
    {
      "cell_type": "code",
      "metadata": {
        "id": "LnU94796q8DS",
        "colab_type": "code",
        "outputId": "da29d98e-062e-40d7-e0dd-150453cd0803",
        "colab": {
          "base_uri": "https://localhost:8080/",
          "height": 70
        }
      },
      "source": [
        "correct = 0\n",
        "total = 0\n",
        "with torch.no_grad():\n",
        "    for data in testloader:\n",
        "        images, labels = data\n",
        "        outputs = model(images)\n",
        "        _, predicted = torch.max(outputs.data, 1)\n",
        "        total += labels.size(0)\n",
        "        correct += (predicted == labels).sum().item()\n",
        "\n",
        "print('Accuracy of the network on the 10000 test images: %d %%' % (\n",
        "    100 * correct / total))"
      ],
      "execution_count": 12,
      "outputs": [
        {
          "output_type": "stream",
          "text": [
            "/usr/local/lib/python3.6/dist-packages/ipykernel_launcher.py:24: UserWarning: Implicit dimension choice for softmax has been deprecated. Change the call to include dim=X as an argument.\n"
          ],
          "name": "stderr"
        },
        {
          "output_type": "stream",
          "text": [
            "Accuracy of the network on the 10000 test images: 87 %\n"
          ],
          "name": "stdout"
        }
      ]
    },
    {
      "cell_type": "code",
      "metadata": {
        "id": "4ZoGRHZ0q8DY",
        "colab_type": "code",
        "colab": {
          "base_uri": "https://localhost:8080/",
          "height": 222
        },
        "outputId": "d3d8d805-875b-4824-d6b8-524d00edfe2d"
      },
      "source": [
        "class_correct = list(0. for i in range(10))\n",
        "class_total = list(0. for i in range(10))\n",
        "with torch.no_grad():\n",
        "    for data in testloader:\n",
        "        images, labels = data\n",
        "        outputs = model(images)\n",
        "        _, predicted = torch.max(outputs, 1)\n",
        "        c = (predicted == labels).squeeze()\n",
        "        for i in range(4):\n",
        "            label = labels[i]\n",
        "            class_correct[label] += c[i].item()\n",
        "            class_total[label] += 1\n",
        "\n",
        "\n",
        "for i in range(10):\n",
        "    print('Accuracy of %5s : %2d %%' % (\n",
        "        classes[i], 100 * class_correct[i] / class_total[i]))"
      ],
      "execution_count": 14,
      "outputs": [
        {
          "output_type": "stream",
          "text": [
            "/usr/local/lib/python3.6/dist-packages/ipykernel_launcher.py:24: UserWarning: Implicit dimension choice for softmax has been deprecated. Change the call to include dim=X as an argument.\n"
          ],
          "name": "stderr"
        },
        {
          "output_type": "stream",
          "text": [
            "Accuracy of     0 : 89 %\n",
            "Accuracy of     1 : 94 %\n",
            "Accuracy of     2 : 74 %\n",
            "Accuracy of     3 : 83 %\n",
            "Accuracy of     4 : 97 %\n",
            "Accuracy of     5 : 69 %\n",
            "Accuracy of     6 : 96 %\n",
            "Accuracy of     7 : 85 %\n",
            "Accuracy of     8 : 89 %\n",
            "Accuracy of     9 : 90 %\n"
          ],
          "name": "stdout"
        }
      ]
    }
  ]
}